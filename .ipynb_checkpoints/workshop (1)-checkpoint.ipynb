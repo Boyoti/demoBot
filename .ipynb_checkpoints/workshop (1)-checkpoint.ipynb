{
 "cells": [
  {
   "cell_type": "heading",
   "level": 1,
   "metadata": {
    "collapsed": true
   },
   "source": [
    "Classification of text -> Intent matching"
   ]
  },
  {
   "cell_type": "heading",
   "level": 3,
   "metadata": {},
   "source": [
    "Importing important files"
   ]
  },
  {
   "cell_type": "code",
   "execution_count": null,
   "metadata": {},
   "outputs": [],
   "source": [
    "import nltk\n",
    "from nltk.stem.lancaster import LancasterStemmer\n",
    "import json"
   ]
  },
  {
   "cell_type": "heading",
   "level": 3,
   "metadata": {},
   "source": []
  }
 ],
 "metadata": {
  "kernelspec": {
   "display_name": "Python 2",
   "language": "python",
   "name": "python2"
  },
  "language_info": {
   "codemirror_mode": {
    "name": "ipython",
    "version": 2
   },
   "file_extension": ".py",
   "mimetype": "text/x-python",
   "name": "python",
   "nbconvert_exporter": "python",
   "pygments_lexer": "ipython2",
   "version": "2.7.6"
  }
 },
 "nbformat": 4,
 "nbformat_minor": 0
}
